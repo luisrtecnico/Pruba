{
  "nbformat": 4,
  "nbformat_minor": 0,
  "metadata": {
    "colab": {
      "provenance": [],
      "toc_visible": true,
      "include_colab_link": true
    },
    "kernelspec": {
      "name": "python3",
      "display_name": "Python 3"
    },
    "language_info": {
      "name": "python"
    }
  },
  "cells": [
    {
      "cell_type": "markdown",
      "metadata": {
        "id": "view-in-github",
        "colab_type": "text"
      },
      "source": [
        "<a href=\"https://colab.research.google.com/github/luisrtecnico/Pruba/blob/main/Ejemplos_introductorio.ipynb\" target=\"_parent\"><img src=\"https://colab.research.google.com/assets/colab-badge.svg\" alt=\"Open In Colab\"/></a>"
      ]
    },
    {
      "cell_type": "markdown",
      "source": [
        "# Prioridad de operadores artmeticos"
      ],
      "metadata": {
        "id": "FUoOtC04fWOk"
      }
    },
    {
      "cell_type": "code",
      "execution_count": null,
      "metadata": {
        "colab": {
          "base_uri": "https://localhost:8080/"
        },
        "id": "wrv1y8XUe2Qf",
        "outputId": "cd067434-43de-4034-ddc9-77f36a7070ac"
      },
      "outputs": [
        {
          "output_type": "stream",
          "name": "stdout",
          "text": [
            "40.0\n"
          ]
        }
      ],
      "source": [
        "resultado = 20 + 3 * 2 ** 2 - 8 / 4 % 3 + 10\n",
        "\n",
        "print(resultado) # Output: 40.0"
      ]
    },
    {
      "cell_type": "markdown",
      "source": [
        "# Operadores de comparacion"
      ],
      "metadata": {
        "id": "AqFvEFmagi2c"
      }
    },
    {
      "cell_type": "code",
      "source": [
        "numero_1 = 5\n",
        "\n",
        "numero_2 = 9\n",
        "\n",
        "print(\"Valor de numero 1:\",numero_1)\n",
        "\n",
        "print(\"Valor de numero 2:\",numero_2)\n",
        "\n",
        "resultado = numero_1 > numero_2\n",
        "\n",
        "print(f\"{numero_1} es mas grande que {numero_2}?:\",resultado)\n",
        "\n",
        "resultado = numero_1 < numero_2\n",
        "\n",
        "print(f\"{numero_1} es menor que {numero_2}?:\",resultado)\n",
        "\n",
        "resultado = numero_1 >= numero_2\n",
        "\n",
        "print(f\"{numero_1} es mayor o igual que {numero_2}?:\",resultado)\n",
        "\n",
        "resultado = numero_1 <= numero_2\n",
        "\n",
        "print(f\"{numero_1} es menor o igual que {numero_2}?:\",resultado)\n",
        "\n",
        "resultado = numero_1 == numero_2\n",
        "\n",
        "print(f\"{numero_1} igual que {numero_2}?:\",resultado)\n",
        "\n",
        "resultado = numero_1 != numero_2\n",
        "\n",
        "print(f\"{numero_1} diferente a {numero_2}?:\",resultado)\n",
        "\n",
        "# Output:\n",
        "\n",
        "#Valor de numero 1: 5\n",
        "#Valor de nuemro 2: 9\n",
        "#5 es mas grande que 9?: False\n",
        "#5 es menor que 9?: True\n",
        "#5 es mayor o igual que 9?: False\n",
        "#5 es menor o igual que 9?: True\n",
        "#5 es igual que 9?: False\n",
        "#5 es diferente a 9?: True\n"
      ],
      "metadata": {
        "colab": {
          "base_uri": "https://localhost:8080/"
        },
        "id": "faiG3M27hXXq",
        "outputId": "f8ae2213-8433-46d2-b424-7965c3594f97"
      },
      "execution_count": null,
      "outputs": [
        {
          "output_type": "stream",
          "name": "stdout",
          "text": [
            "Valor de numero 1: 5\n",
            "Valor de numero 2: 9\n",
            "5 es mas grande que 9?: False\n",
            "5 es menor que 9?: True\n",
            "5 es mayor o igual que 9?: False\n",
            "5 es menor o igual que 9?: True\n",
            "5 igual que 9?: False\n",
            "5 diferente a 9?: True\n"
          ]
        }
      ]
    },
    {
      "cell_type": "markdown",
      "source": [
        "# Operadores Lógicos"
      ],
      "metadata": {
        "id": "o2mZ8ZuKtVUx"
      }
    },
    {
      "cell_type": "code",
      "source": [
        "numero_1 = 20\n",
        "numero_2 = 90\n",
        "\n",
        "print(\"Valor del a:\",numero_1,\", Valor del b:\",numero_2 )\n",
        "\n",
        "resultado = ((numero_1 > 50) and (numero_2 > 80))\n",
        "\n",
        "print(\"(a>50) and (b>80):\",resultado)\n",
        "\n",
        "resultado = ((numero_1 > 50) or (numero_2 > 80))\n",
        "\n",
        "print(\"(a>50) or (b>80):\",resultado)\n",
        "\n",
        "resultado = not((numero_1 > 50) and (numero_2 > 80))\n",
        "\n",
        "print(\"not (a>50) and (b>80):\",resultado)\n",
        "\n"
      ],
      "metadata": {
        "id": "GGWKSHxbthLW",
        "colab": {
          "base_uri": "https://localhost:8080/"
        },
        "outputId": "8ca8d270-842f-45bd-beb4-3f399cb577d0"
      },
      "execution_count": null,
      "outputs": [
        {
          "output_type": "stream",
          "name": "stdout",
          "text": [
            "Valor del a: 20 , Valor del b: 90\n",
            "(a>50) and (b>80): False\n",
            "(a>50) or (b>80): True\n",
            "not (a>50) and (b>80): True\n"
          ]
        }
      ]
    },
    {
      "cell_type": "markdown",
      "source": [
        "# Operadores de Asignacion"
      ],
      "metadata": {
        "id": "3LqiB9aJydHy"
      }
    },
    {
      "cell_type": "code",
      "source": [
        "numero_1 = 12\n",
        "numero_2 = 10\n",
        "\n",
        "resultado = numero_1\n",
        "\n",
        "resultado = numero_2\n",
        "\n",
        "print(f\"{numero_1} = {numero_2} =>\",resultado )\n",
        "\n",
        "\n",
        "resultado = numero_1\n",
        "\n",
        "resultado += numero_2\n",
        "\n",
        "print(f\"{numero_1} += {numero_2} =>\",resultado )\n",
        "\n",
        "\n",
        "resultado = numero_1\n",
        "\n",
        "resultado -= numero_2\n",
        "\n",
        "print(f\"{numero_1} -= {numero_2} =>\",resultado )\n",
        "\n",
        "\n",
        "resultado = numero_1\n",
        "\n",
        "resultado *= numero_2\n",
        "\n",
        "print(f\"{numero_1} *= {numero_2} =>\",resultado )\n",
        "\n",
        "\n",
        "resultado = numero_1\n",
        "\n",
        "resultado /= numero_2\n",
        "\n",
        "print(f\"{numero_1} /= {numero_2} =>\",resultado )\n",
        "\n",
        "\n",
        "resultado = numero_1\n",
        "\n",
        "resultado %= numero_2\n",
        "\n",
        "print(f\"{numero_1} %= {numero_2} =>\",resultado )\n",
        "\n",
        "\n"
      ],
      "metadata": {
        "colab": {
          "base_uri": "https://localhost:8080/"
        },
        "id": "1hUt4yi-judl",
        "outputId": "c48c1000-d635-44a5-98b2-747f9f8a7994"
      },
      "execution_count": null,
      "outputs": [
        {
          "output_type": "stream",
          "name": "stdout",
          "text": [
            "12 = 10 => 10\n",
            "12 += 10 => 22\n",
            "12 -= 10 => 2\n",
            "12 *= 10 => 120\n",
            "12 /= 10 => 1.2\n",
            "12 %= 10 => 2\n"
          ]
        }
      ]
    },
    {
      "cell_type": "markdown",
      "source": [
        "#Exprecion condicional"
      ],
      "metadata": {
        "id": "SLAiLl0VYlVv"
      }
    },
    {
      "cell_type": "code",
      "source": [
        "# asignar valores a variables\n",
        "\n",
        "numero_1 = 30\n",
        "numero_2 = 20\n",
        "\n",
        "# usar el operador termario para encontrar el valor mayor\n",
        "\n",
        "mayor = numero_1 if numero_1 > numero_2 else numero_2\n",
        "\n",
        "print(f\"El mayor valor es: {mayor}\") # Output: El mayor valor es: 30\n",
        "\n"
      ],
      "metadata": {
        "colab": {
          "base_uri": "https://localhost:8080/"
        },
        "id": "-tFcQbQmYt_W",
        "outputId": "9a8d3f88-d8ce-4915-9e45-e6f070f26448"
      },
      "execution_count": null,
      "outputs": [
        {
          "output_type": "stream",
          "name": "stdout",
          "text": [
            "El mayor valor es: 30\n"
          ]
        }
      ]
    },
    {
      "cell_type": "markdown",
      "source": [
        "# 1. Radio de un circulo"
      ],
      "metadata": {
        "id": "7fcTtg58o4ZR"
      }
    },
    {
      "cell_type": "code",
      "source": [
        "radio = int(input(\"Ingrese el radio del circulo:\"))\n",
        "\n",
        "import math\n",
        "\n",
        "pi_valor = math.pi\n",
        "\n",
        "area = pi_valor * radio ** 2\n",
        "\n",
        "print(pi_valor)\n",
        "\n",
        "print(f\"El area del circulo es:\",area)"
      ],
      "metadata": {
        "colab": {
          "base_uri": "https://localhost:8080/"
        },
        "id": "WOeEws8Y9voQ",
        "outputId": "3d771cc8-2935-4ce8-b689-f4dd2ac727d5"
      },
      "execution_count": null,
      "outputs": [
        {
          "output_type": "stream",
          "name": "stdout",
          "text": [
            "Ingrese el radio del circulo:2\n",
            "3.141592653589793\n",
            "El area del circulo es: 12.566370614359172\n"
          ]
        }
      ]
    },
    {
      "cell_type": "markdown",
      "source": [
        "# 2. Temperatura\n",
        "\n",
        "Escribe un programa que convierta una temperatura dada en grados celcius grados Fahrenheit\n",
        "\n"
      ],
      "metadata": {
        "id": "8U9EOSl5A61w"
      }
    },
    {
      "cell_type": "code",
      "source": [
        "temp = int(input(\"Ingrese Temperatura:\"))\n",
        "\n",
        "print (f\"Temperatura {temp}°C\")\n",
        "\n",
        "gradosf = temp * 1.8 + 32\n",
        "\n",
        "print(f\"Temperatura Convertida: {gradosf}°F\")"
      ],
      "metadata": {
        "id": "RSeKwQxMBcVI",
        "colab": {
          "base_uri": "https://localhost:8080/"
        },
        "outputId": "f8e3b95a-0424-49fa-8cd5-9fa7a0fecf31"
      },
      "execution_count": null,
      "outputs": [
        {
          "output_type": "stream",
          "name": "stdout",
          "text": [
            "Ingrese Temperatura:10\n",
            "Temperatura 10°C\n",
            "Temperatura Convertida: 50.0°F\n"
          ]
        }
      ]
    },
    {
      "cell_type": "markdown",
      "source": [
        "# Triangulo Rectangulo\n",
        "\n",
        "3. Escribe un programa que pida al usuario los dos catetos de un triangulo rectangulo y calcule la hipotenusa."
      ],
      "metadata": {
        "id": "lhzIRevMM0hG"
      }
    },
    {
      "cell_type": "code",
      "source": [
        "cateto_a = int(input(\"Ingrese catero A del Triangulo:\"))\n",
        "cateto_b = int(input(\"Ingrese catero B del Triangulo:\"))\n",
        "\n",
        "hipotenusa = (cateto_a ** 2 + cateto_b ** 2) ** 0.5\n",
        "\n",
        "print(hipotenusa)\n"
      ],
      "metadata": {
        "colab": {
          "base_uri": "https://localhost:8080/"
        },
        "id": "mROdYEUkNgJH",
        "outputId": "cd8f5cc3-c99f-4f12-8d1e-4a2b13b4f436"
      },
      "execution_count": null,
      "outputs": [
        {
          "output_type": "stream",
          "name": "stdout",
          "text": [
            "Ingrese catero A del Triangulo:30\n",
            "Ingrese catero B del Triangulo:40\n",
            "50.0\n"
          ]
        }
      ]
    },
    {
      "cell_type": "code",
      "source": [
        "def calcular_hipotenusa(a, b):\n",
        "    return (a**2 + b**2)**0.5\n",
        "\n",
        "# Ejemplo de uso\n",
        "cateto_a = 3\n",
        "cateto_b = 4\n",
        "hipotenusa = calcular_hipotenusa(cateto_a, cateto_b)\n",
        "print(f\"La hipotenusa es: {hipotenusa}\")\n"
      ],
      "metadata": {
        "colab": {
          "base_uri": "https://localhost:8080/"
        },
        "id": "DBKg0PKgCYVS",
        "outputId": "de97f8e0-56e9-4ff6-811c-2c0cfdc0d086"
      },
      "execution_count": null,
      "outputs": [
        {
          "output_type": "stream",
          "name": "stdout",
          "text": [
            "La hipotenusa es: 5.0\n"
          ]
        }
      ]
    },
    {
      "cell_type": "markdown",
      "source": [
        "# Fecha de Nacimiento\n",
        "4. Escribe un programa que pida al usuario su año de nacimiento, calcule su edad y genere un mensaje de saludo personalizado que incluya su nombre y la edad."
      ],
      "metadata": {
        "id": "KbogVEEeC7Ji"
      }
    },
    {
      "cell_type": "code",
      "source": [
        "nacimiento_año = int(input(\"Ingrese su año de Nacimiento:\"))\n",
        "\n",
        "año_actual = int(input(\"Ingrese año actual:\"))\n",
        "\n",
        "edad = año_actual - nacimiento_año\n",
        "\n",
        "print(edad)"
      ],
      "metadata": {
        "colab": {
          "base_uri": "https://localhost:8080/"
        },
        "id": "IletBzerDeTN",
        "outputId": "d48153a8-49b6-45b5-f2ed-56ab39e803f5"
      },
      "execution_count": null,
      "outputs": [
        {
          "output_type": "stream",
          "name": "stdout",
          "text": [
            "Ingrese su año de Nacimiento:1983\n",
            "Ingrese año actual:2025\n",
            "42\n"
          ]
        }
      ]
    },
    {
      "cell_type": "code",
      "source": [
        "from datetime import datetime\n",
        "\n",
        "año_actual = datetime.now().year\n",
        "\n",
        "print(\"Hola, ¿Como te llamas?\")\n",
        "\n",
        "nombre = str(input())\n",
        "\n",
        "nacimiento_año = int(input(\"Ingrese su año de Nacimiento:\"))\n",
        "\n",
        "edad = año_actual - nacimiento_año\n",
        "\n",
        "print(f\"{nombre}, Tu edad es de: {edad} años\")\n",
        "\n"
      ],
      "metadata": {
        "colab": {
          "base_uri": "https://localhost:8080/"
        },
        "id": "Nx5YKSfPImKv",
        "outputId": "f7fa9fd0-7d50-4b95-dfe7-5648a2543851"
      },
      "execution_count": null,
      "outputs": [
        {
          "output_type": "stream",
          "name": "stdout",
          "text": [
            "Hola, ¿Como te llamas?\n",
            "Luis\n",
            "Ingrese su año de Nacimiento:1983\n",
            "Luis, Tu edad es de: 42 años\n"
          ]
        }
      ]
    },
    {
      "cell_type": "markdown",
      "source": [
        "# Estructuras de control de condicionales\n",
        "if expreciones-booleana:\n",
        "Ejemplo:\n"
      ],
      "metadata": {
        "id": "EmmcNhsGbPSA"
      }
    },
    {
      "cell_type": "code",
      "source": [
        "numero = 5\n",
        "\n",
        "if numero > 0:\n",
        "  print(\" El numero es positivo\")"
      ],
      "metadata": {
        "colab": {
          "base_uri": "https://localhost:8080/"
        },
        "id": "_3AehZIabwYV",
        "outputId": "f9e1c80f-08a4-4ca5-908f-8157abaad3cf"
      },
      "execution_count": null,
      "outputs": [
        {
          "output_type": "stream",
          "name": "stdout",
          "text": [
            " El numero es positivo\n"
          ]
        }
      ]
    },
    {
      "cell_type": "markdown",
      "source": [
        "Declaracion if else:\n",
        "Ejemplo:"
      ],
      "metadata": {
        "id": "guPoDoaYcT74"
      }
    },
    {
      "cell_type": "code",
      "source": [
        "numero = 12\n",
        "\n",
        "if numero % 2 == 0:\n",
        "  print(\"Par\")\n",
        "else:\n",
        "  print(\"Impar\")"
      ],
      "metadata": {
        "colab": {
          "base_uri": "https://localhost:8080/"
        },
        "id": "5xjs5qENca4h",
        "outputId": "49b53145-1216-456a-c0e1-b2ca91ad7df9"
      },
      "execution_count": null,
      "outputs": [
        {
          "output_type": "stream",
          "name": "stdout",
          "text": [
            "Par\n"
          ]
        }
      ]
    },
    {
      "cell_type": "markdown",
      "source": [
        "Declaracion if elif else\n",
        "Ejemplo:\n"
      ],
      "metadata": {
        "id": "24R7O79NdhMR"
      }
    },
    {
      "cell_type": "code",
      "source": [
        "numero = 2\n",
        "\n",
        "if numero > 0:\n",
        "  print(f\"{numero} es positivo\")\n",
        "\n",
        "elif numero < 0:\n",
        "  print(f\"{numero} es negativo\")\n",
        "\n",
        "else:\n",
        "  print (f\"{numero} es nulo\")"
      ],
      "metadata": {
        "colab": {
          "base_uri": "https://localhost:8080/"
        },
        "id": "XkQOIHtPdtAo",
        "outputId": "f7d9af31-b554-4a9f-c699-95ab4d4e7508"
      },
      "execution_count": null,
      "outputs": [
        {
          "output_type": "stream",
          "name": "stdout",
          "text": [
            "2 es positivo\n"
          ]
        }
      ]
    },
    {
      "cell_type": "markdown",
      "source": [
        "Declaracion de match\n",
        "Sintaxis:"
      ],
      "metadata": {
        "id": "MzWeMckCiZ9v"
      }
    },
    {
      "cell_type": "code",
      "source": [
        "variable_exresion = 'constante_expr1'\n",
        "\n",
        "match variable_exresion:\n",
        "\n",
        "  case 'constante_expr1':\n",
        "    # Boque de codigo A\n",
        "    pass\n",
        "\n",
        "  case 'constante_expr2':\n",
        "     # Boque de codigo B\n",
        "    pass\n",
        "\n",
        "  case _:\n",
        "    # bloque de codigo Predeterminado\n",
        "    pass\n"
      ],
      "metadata": {
        "id": "ciyfZ28pihGo"
      },
      "execution_count": null,
      "outputs": []
    },
    {
      "cell_type": "markdown",
      "source": [
        "## Pongalomos a prueba ##\n",
        "\n",
        "1. Escribe un programa que a partir de un número entero positivo, muestre por pantalla si es par o impar."
      ],
      "metadata": {
        "id": "sRHtD3eYkbU8"
      }
    },
    {
      "cell_type": "code",
      "source": [
        "numero = int(input(\"Ingrese un Numero entero positivo:\"))\n",
        "\n",
        "if numero % 2 == 0:\n",
        "  print(f\"{numero} es par\")\n",
        "\n",
        "else:\n",
        "  print(f\"{numero} es impar\")\n"
      ],
      "metadata": {
        "colab": {
          "base_uri": "https://localhost:8080/"
        },
        "id": "-n2z735WkZse",
        "outputId": "7aaec02e-556a-4841-f3f6-61a08bca87f9"
      },
      "execution_count": null,
      "outputs": [
        {
          "output_type": "stream",
          "name": "stdout",
          "text": [
            "Ingrese un Numero entero positivo:0\n",
            "0 es par\n"
          ]
        }
      ]
    },
    {
      "cell_type": "markdown",
      "source": [
        "# Numero primo\n",
        "\n",
        "2. Escribe un programa que a partir de un numero entero positivo, que muestre por pantalla si es primo o no."
      ],
      "metadata": {
        "id": "3oFTkcZpnxD8"
      }
    },
    {
      "cell_type": "code",
      "source": [
        "numero = int(input(\"Ingrese un nuemro:\"))\n",
        "\n",
        "def es_primo(numero):\n",
        "    if numero <= 1:\n",
        "        return False\n",
        "    for i in range(2, int(numero**0.5) + 1):\n",
        "        if numero % i == 0:\n",
        "            return False\n",
        "    return True\n",
        "\n",
        "if es_primo(numero):\n",
        "    print(f\"{numero} es un número primo.\")\n",
        "else:\n",
        "    print(f\"{numero} no es un número primo.\")\n",
        "\n",
        "\n",
        "\n"
      ],
      "metadata": {
        "colab": {
          "base_uri": "https://localhost:8080/"
        },
        "id": "KxRudiaTodqM",
        "outputId": "bb98a89e-9626-4411-aefe-d56aa5d8e5d8"
      },
      "execution_count": null,
      "outputs": [
        {
          "output_type": "stream",
          "name": "stdout",
          "text": [
            "Ingrese un nuemro:15\n",
            "15 no es un número primo.\n"
          ]
        }
      ]
    },
    {
      "cell_type": "markdown",
      "source": [
        "# Division.\n",
        "\n",
        "3. Escrive un programa que permita relizar la division de dos números siempre y cuando el senominador no sea 0."
      ],
      "metadata": {
        "id": "qhcBa8jSaIm8"
      }
    },
    {
      "cell_type": "code",
      "source": [
        "numerador = int(input(\"ingrese numerador:\"))\n",
        "\n",
        "denominador = int(input(\"ingrese Denominador:\"))\n",
        "\n",
        "dividendo = 0\n",
        "\n",
        "if denominador != 0:\n",
        "  dividendo = numerador / denominador\n",
        "  print(dividendo)\n",
        "else:\n",
        "  print(\"El denominador es 0, no se puede dividir.\")"
      ],
      "metadata": {
        "colab": {
          "base_uri": "https://localhost:8080/"
        },
        "id": "gkIKV5tQaU6i",
        "outputId": "119b9df5-c6f2-4885-b7e7-a0c5f6417e86"
      },
      "execution_count": null,
      "outputs": [
        {
          "output_type": "stream",
          "name": "stdout",
          "text": [
            "ingrese numerador:10\n",
            "ingrese Denominador:0\n",
            "El denominador es 0 no se puede dividir.\n"
          ]
        }
      ]
    },
    {
      "cell_type": "markdown",
      "source": [
        "Estructura secuenciales"
      ],
      "metadata": {
        "id": "zREvWk291xZK"
      }
    },
    {
      "cell_type": "code",
      "source": [
        "# Solicitar el nombre del usuario\n",
        "\n",
        "nombre = input(\"Ingrese su nombre:\")\n",
        "\n",
        "# Solicitar un numero\n",
        "\n",
        "numero = int(input(\"ingrese un numero:\"))\n",
        "\n",
        "# Calcular el cuedrado de nuemro\n",
        "\n",
        "cuadrado = numero ** 2\n",
        "\n",
        "# Mostrar resultados\n",
        "\n",
        "print(f\"Hola {nombre}, el cuadrado de {numero} es:\",cuadrado)\n"
      ],
      "metadata": {
        "colab": {
          "base_uri": "https://localhost:8080/"
        },
        "id": "ESgs7Upb114J",
        "outputId": "6fe2356b-db7a-4cc3-f484-aa4a5aa6d4cf"
      },
      "execution_count": null,
      "outputs": [
        {
          "output_type": "stream",
          "name": "stdout",
          "text": [
            "Ingrese su nombre:Lucas\n",
            "ingrese un numero:5\n",
            "Hola Lucas, el cuadrado de 5 es: 25\n"
          ]
        }
      ]
    },
    {
      "cell_type": "markdown",
      "source": [
        "# Estructuras de control Condicionales (if)"
      ],
      "metadata": {
        "id": "Y4iLDj8U3kBS"
      }
    },
    {
      "cell_type": "markdown",
      "source": [
        "## ejemplo"
      ],
      "metadata": {
        "id": "ZCTZ9AsO39Ge"
      }
    },
    {
      "cell_type": "code",
      "source": [
        "numero = 5\n",
        "\n",
        "if numero > 0:\n",
        "  print(\"El numero es positivo\")"
      ],
      "metadata": {
        "colab": {
          "base_uri": "https://localhost:8080/"
        },
        "id": "KoYIvKid3sL5",
        "outputId": "2b720847-531f-42c2-d305-fc15e086d0ce"
      },
      "execution_count": null,
      "outputs": [
        {
          "output_type": "stream",
          "name": "stdout",
          "text": [
            "El numero es positivo\n"
          ]
        }
      ]
    },
    {
      "cell_type": "markdown",
      "source": [
        "## ejemplo"
      ],
      "metadata": {
        "id": "6lrBIoNM3400"
      }
    },
    {
      "cell_type": "code",
      "source": [
        "numero = 12\n",
        "\n",
        "if numero % 2 == 0:\n",
        "  print(\"Par\")\n",
        "else:\n",
        "  print(\"Impar\")"
      ],
      "metadata": {
        "colab": {
          "base_uri": "https://localhost:8080/"
        },
        "id": "ufmTqddd4PMg",
        "outputId": "fa4d0962-96a1-462b-f423-00984abbd495"
      },
      "execution_count": null,
      "outputs": [
        {
          "output_type": "stream",
          "name": "stdout",
          "text": [
            "Par\n"
          ]
        }
      ]
    },
    {
      "cell_type": "markdown",
      "source": [
        "## Ejemplo declaracion if elif else"
      ],
      "metadata": {
        "id": "yJuRCRU94vmw"
      }
    },
    {
      "cell_type": "code",
      "source": [
        "numero = 2\n",
        "\n",
        "if numero > 0:\n",
        "  print(f\"{numero} es positivo\")\n",
        "\n",
        "elif numero < 0:\n",
        "  print(f\"{numero} es negativo\")\n",
        "\n",
        "else:\n",
        "  print (f\"{numero} es nulo\")"
      ],
      "metadata": {
        "id": "uS_fkz9C48Y1"
      },
      "execution_count": null,
      "outputs": []
    },
    {
      "cell_type": "markdown",
      "source": [
        "## Ejenplo anidar"
      ],
      "metadata": {
        "id": "1WieOSxl7FVc"
      }
    },
    {
      "cell_type": "code",
      "source": [
        "numero = 6\n",
        "\n",
        "if numero > -10:\n",
        "\n",
        "    if numero < 10:\n",
        "\n",
        "            print(f\"El numero {numero} esta compredido entre -10 y 10\")"
      ],
      "metadata": {
        "colab": {
          "base_uri": "https://localhost:8080/"
        },
        "id": "0yZUUTjv7LD8",
        "outputId": "a2dd2486-60c9-42bf-bab2-ede7f351a04e"
      },
      "execution_count": null,
      "outputs": [
        {
          "output_type": "stream",
          "name": "stdout",
          "text": [
            "El numero 6 esta compredido entre -10 y 10\n"
          ]
        }
      ]
    },
    {
      "cell_type": "markdown",
      "source": [
        "## Ejemplo mayor de los numeros"
      ],
      "metadata": {
        "id": "nkQqPo5UAN-z"
      }
    },
    {
      "cell_type": "code",
      "source": [
        "numero_1 = 12\n",
        "numero_2 = -5\n",
        "\n",
        "if numero_1 > numero_2:\n",
        "  print(f\"EL mayor mayor de los dos numeros es: {numero_1}\")\n",
        "\n",
        "else:\n",
        "  print(f\"EL mayor mayor de los dos numeros es: {numero_2}\")"
      ],
      "metadata": {
        "colab": {
          "base_uri": "https://localhost:8080/"
        },
        "id": "2XUJB50GATeU",
        "outputId": "780972e2-356a-4135-cead-9ea225c524c3"
      },
      "execution_count": null,
      "outputs": [
        {
          "output_type": "stream",
          "name": "stdout",
          "text": [
            "EL mayor mayor de los dos numeros es: 12\n"
          ]
        }
      ]
    },
    {
      "cell_type": "code",
      "source": [
        "numero_1 = 0\n",
        "numero_2 = -5\n",
        "numero_3 = 6\n",
        "\n",
        "if numero_1 > numero_2:\n",
        "  if numero_1 > numero_3:\n",
        "    print(f\"EL mayor mayor de los dos numeros es: {numero_1}\")\n",
        "  else:\n",
        "    print(f\"EL mayor mayor de los dos numeros es: {numero_3}\")\n",
        "\n",
        "else:\n",
        "  if numero_2 > numero_3:\n",
        "    print(f\"EL mayor mayor de los dos numeros es: {numero_2}\")\n",
        "  else:\n",
        "    print(f\"EL mayor mayor de los dos numeros es: {numero_3}\")"
      ],
      "metadata": {
        "colab": {
          "base_uri": "https://localhost:8080/"
        },
        "id": "j0EuBNJbFRm4",
        "outputId": "cfa0dd0f-f914-419d-f159-b0faf41be967"
      },
      "execution_count": null,
      "outputs": [
        {
          "output_type": "stream",
          "name": "stdout",
          "text": [
            "EL mayor mayor de los dos numeros es: 6\n"
          ]
        }
      ]
    },
    {
      "cell_type": "code",
      "source": [
        "numero_1 = 0\n",
        "numero_2 = -5\n",
        "numero_3 = 6\n",
        "\n",
        "if numero_1 > numero_2 and numero_1 > numero_3:\n",
        "  print(f\"EL mayor mayor de los dos numeros es: {numero_1}\")\n",
        "\n",
        "elif numero_2 > numero_1 and numero_2 > numero_3:\n",
        "  print(f\"EL mayor mayor de los dos numeros es: {numero_2}\")\n",
        "\n",
        "else:\n",
        "  print(f\"EL mayor mayor de los dos numeros es: {numero_3}\")"
      ],
      "metadata": {
        "colab": {
          "base_uri": "https://localhost:8080/"
        },
        "id": "xSZf29KxGb2X",
        "outputId": "8ac700b9-6f0d-494e-8855-d865144f179b"
      },
      "execution_count": null,
      "outputs": [
        {
          "output_type": "stream",
          "name": "stdout",
          "text": [
            "EL mayor mayor de los dos numeros es: 6\n"
          ]
        }
      ]
    },
    {
      "cell_type": "markdown",
      "source": [
        "# Triangulo"
      ],
      "metadata": {
        "id": "fqQ0yCrEhi6d"
      }
    },
    {
      "cell_type": "code",
      "source": [
        "lado_1 = int(input(\"Ingrese lado 1:\"))\n",
        "lado_2 = int(input(\"Ingrese lado 2:\"))\n",
        "lado_3 = int(input(\"Ingrese lado 3:\"))\n",
        "\n",
        "if lado_1 == lado_2 == lado_3:\n",
        "  print(\"Es un triangulo equilatero\")\n",
        "\n",
        "elif lado_1 == lado_2 or lado_1 == lado_3 or lado_2 == lado_3:\n",
        "  print(\"Es un triangulo isoceles\")\n",
        "\n",
        "else:\n",
        "  print(\"Es un triangulo escaleno\")"
      ],
      "metadata": {
        "id": "Ql1u79uNhl09"
      },
      "execution_count": null,
      "outputs": []
    },
    {
      "cell_type": "markdown",
      "source": [
        "## Usuario y contraseña\n",
        "\n",
        "3. Escrive un programa que solicite al usuario que ingrese una contraseña y confirme la contraseña  coinciden y no estan vacias"
      ],
      "metadata": {
        "id": "skIxw75IO41i"
      }
    },
    {
      "cell_type": "code",
      "source": [
        "nombre = input(\"Ingrese su nombre:\")\n",
        "\n",
        "if nombre == \"Luis\":\n",
        "    print(f\"Bienvenido {nombre}\")\n",
        "    contraseña = input(\"Ingrese su contraseña:\")\n",
        "    if contraseña == \"1234\":\n",
        "        cof_contraseña = input(\"Confirme su contraseña:\")\n",
        "        if cof_contraseña == contraseña:\n",
        "            print(\"Contraseña correcta\")\n",
        "        elif cof_contraseña == \"\":\n",
        "            print(\"Contraseña vacia\")\n",
        "        else:\n",
        "              print(\"Las Contraseñas no coiciden\")\n",
        "    elif contraseña == \"\":\n",
        "        print(\"Contraseña vacia\")\n",
        "    else:\n",
        "        print(\"Contraseña incorrecta\")\n",
        "else:\n",
        "    print(\"El dato está vacío.\")\n"
      ],
      "metadata": {
        "colab": {
          "base_uri": "https://localhost:8080/"
        },
        "id": "fiQ9ESEaO__Q",
        "outputId": "b0ccf8fe-7cc3-4dce-ca20-940c5d8fab5a"
      },
      "execution_count": null,
      "outputs": [
        {
          "output_type": "stream",
          "name": "stdout",
          "text": [
            "Ingrese su nombre:Luis\n",
            "Bienvenido Luis\n",
            "Ingrese su contraseña:1234\n",
            "Confirme su contraseña:1234\n",
            "Contraseña correcta\n"
          ]
        }
      ]
    },
    {
      "cell_type": "markdown",
      "source": [
        "#Calculadora"
      ],
      "metadata": {
        "id": "4ii6B0cdxn3s"
      }
    },
    {
      "cell_type": "code",
      "source": [],
      "metadata": {
        "id": "6S7pce8hxqtL"
      },
      "execution_count": null,
      "outputs": []
    }
  ]
}